{
  "nbformat": 4,
  "nbformat_minor": 0,
  "metadata": {
    "colab": {
      "provenance": [],
      "include_colab_link": true
    },
    "kernelspec": {
      "name": "python3",
      "display_name": "Python 3"
    },
    "language_info": {
      "name": "python"
    }
  },
  "cells": [
    {
      "cell_type": "markdown",
      "metadata": {
        "id": "view-in-github",
        "colab_type": "text"
      },
      "source": [
        "<a href=\"https://colab.research.google.com/github/rudrakshrajvyas/VAFSUD/blob/main/FM_Assignment_2.ipynb\" target=\"_parent\"><img src=\"https://colab.research.google.com/assets/colab-badge.svg\" alt=\"Open In Colab\"/></a>"
      ]
    },
    {
      "cell_type": "code",
      "metadata": {
        "id": "KuZYDeaeQCs2"
      },
      "source": [
        "#import libraries\n",
        "import scipy as sp\n",
        "import pandas as pd\n",
        "import numpy as np\n",
        "import matplotlib.pyplot as plt\n",
        "import warnings\n",
        "warnings.filterwarnings(\"ignore\")"
      ],
      "execution_count": null,
      "outputs": []
    },
    {
      "cell_type": "code",
      "metadata": {
        "id": "iDioD9vIQXFX"
      },
      "source": [
        "nYear = 9\n",
        "n = nYear +1\n",
        "sales0 = 40 #Expected value of sales for 2020 i.e. t=1\n",
        "salesgrowth0=0.075 #Expected Sales growth rate\n",
        "gross_profit_margin=0.3 #Expected COGS and operating expenses as a % of sales\n",
        "capex0=12#Expected value of CAPEX at t=0\n",
        "nwc0= 4.5\n",
        "taxrate =0.26 #Expected tax rate is 25%\n",
        "discountrate = 0.2 #Expected discount rate is 10%\n",
        "gcapex= 0.25 #Expected Growth in Capex\n",
        "gnwc = 0.1\n",
        "dep_rate = 0.20\n",
        "cost_of_debt = 0.085\n",
        "operating_expenses_ratio = 0.20"
      ],
      "execution_count": null,
      "outputs": []
    },
    {
      "cell_type": "code",
      "metadata": {
        "colab": {
          "base_uri": "https://localhost:8080/",
          "height": 668
        },
        "id": "pyUFfJd0QXZt",
        "outputId": "f58f47a0-2b02-4cba-9fbb-0f52b47fafa7"
      },
      "source": [
        "#Solving for Base Case scenario\n",
        "# Sales Calculation\n",
        "sales = list(range(n))\n",
        "sales[0]=0\n",
        "for i in sp.arange(nYear):\n",
        "  sales[1] = sales0\n",
        "  sales[i+1]=(1+salesgrowth0)*sales[i]\n",
        "print(\"Sales Revenue\", sales[:n])\n",
        "\n",
        "# COGS and Operating Expenses Calculation\n",
        "COGS = sp.ones(n)*(1-gross_profit_margin)*sales\n",
        "operating_expenses = sp.ones(n)*operating_expenses_ratio*sales[0:n]\n",
        "print(\"COGS\", COGS[:n])\n",
        "print(\"Operating expenses\", operating_expenses[:n])\n",
        "\n",
        "# Gross PPE and Net Working Capital Calculation\n",
        "grossppe = sp.ones(n)\n",
        "grossppe[0]=capex0\n",
        "wc = sp.ones(n)\n",
        "wc[0]=nwc0\n",
        "for i in sp.arange(nYear-1):\n",
        "  grossppe[i+1]=grossppe[i]+gcapex*(sales[i+2]-sales[i+1])\n",
        "  wc[i+1]=wc[i]+gnwc*(sales[i+2]-sales[i+1])\n",
        "\n",
        "grossppe[nYear]=grossppe[nYear-1]\n",
        "print(\"Gross PPE\", grossppe[0:n])\n",
        "wc[nYear]=wc[nYear-1]\n",
        "print(\"Net Working Capital\", wc[0:n])\n",
        "\n",
        "# Depreciation, Net PPE ,Accumulated Depreciation Calculation\n",
        "depreciation = sp.zeros(n)\n",
        "acc_depreciation = sp.zeros(n)\n",
        "net_ppe = sp.zeros(n)\n",
        "net_ppe[0] = capex0\n",
        "for i in sp.arange(1,n):\n",
        "  depreciation[i] = dep_rate * net_ppe[i-1]\n",
        "  acc_depreciation[i] = acc_depreciation[i-1] + depreciation[i]\n",
        "  net_ppe[i] = grossppe[i]-acc_depreciation[i]\n",
        "print(\"Depreciation\",depreciation[:n])\n",
        "print(\"Accumulated_Depreciation\",acc_depreciation[:n])\n",
        "print(\"Net PPE\",net_ppe[:n])\n",
        "\n",
        "\n",
        "# EBIT Projection\n",
        "gross_profit = sales - COGS\n",
        "EBITDA = gross_profit - operating_expenses\n",
        "print(\"EBITDA\",EBITDA[:n])\n",
        "EBIT = EBITDA - depreciation\n",
        "print(\"EBIT\",EBIT[:n])\n",
        "\n",
        "\n",
        "\n",
        "# Capex Projections\n",
        "change_in_capex = sp.zeros(n)\n",
        "change_in_capex[0] = grossppe[0]\n",
        "change_in_nwc = sp.zeros(n)\n",
        "change_in_nwc[0] =  wc[0]\n",
        "for i in sp.arange(1,nYear):\n",
        "  change_in_capex[i] = grossppe[i]-grossppe[i-1]\n",
        "  change_in_nwc[i] = wc[i]-wc[i-1]\n",
        "print(\"CAPEX\", change_in_capex[:n])\n",
        "print(\"Change in Net Working Capital\", change_in_nwc[:n])\n",
        "\n",
        "\n",
        "# Salvage Value \n",
        "salvage_value = sp.zeros(n)\n",
        "salvage_value[nYear] = net_ppe[nYear] + wc[nYear]\n",
        "print(\"Salvage Value\",salvage_value[:n])\n",
        "\n",
        "\n",
        "# FCFE Calculation\n",
        "FCFF = netprofit + depreciation - change_in_capex-change_in_nwc+np_p + salvage_value\n",
        "print(\"FCFF\", FCFF[:n])\n",
        "NPVproject =sp.npv(discountrate,FCFF)\n",
        "IRRproject = sp.irr(FCFF)\n",
        "print(\"Expected NPV\", NPVproject)\n",
        "print(\"Expected IRR\", IRRproject)"
      ],
      "execution_count": null,
      "outputs": [
        {
          "output_type": "stream",
          "name": "stdout",
          "text": [
            "Sales Revenue [0, 40, 43.0, 46.225, 49.691874999999996, 53.41876562499999, 57.42517304687499, 61.73206102539061, 66.3619656022949, 71.33911302246702]\n",
            "COGS [ 0.         28.         30.1        32.3575     34.7843125  37.39313594\n",
            " 40.19762113 43.21244272 46.45337592 49.93737912]\n",
            "Operating expenses [ 0.          8.          8.6         9.245       9.938375   10.68375312\n",
            " 11.48503461 12.34641221 13.27239312 14.2678226 ]\n",
            "Gross PPE [12.         12.75       13.55625    14.42296875 15.35469141 16.35629326\n",
            " 17.43301526 18.5904914  19.83477826 19.83477826]\n",
            "Net Working Capital [4.5        4.8        5.1225     5.4691875  5.84187656 6.2425173\n",
            " 6.6732061  7.13619656 7.6339113  7.6339113 ]\n",
            "Depreciation [0.         2.4        2.07       1.81725    1.62714375 1.48805953\n",
            " 1.390768   1.3279588  1.29386227 1.28394718]\n",
            "Accumulated_Depreciation [ 0.          2.4         4.47        6.28725     7.91439375  9.40245328\n",
            " 10.79322128 12.12118007 13.41504234 14.69898952]\n",
            "Net PPE [12.         10.35        9.08625     8.13571875  7.44029766  6.95383998\n",
            "  6.63979398  6.46931133  6.41973592  5.13578873]\n",
            "EBITDA [0.         4.         4.3        4.6225     4.9691875  5.34187656\n",
            " 5.7425173  6.1732061  6.63619656 7.1339113 ]\n",
            "EBIT [0.         1.6        2.23       2.80525    3.34204375 3.85381703\n",
            " 4.35174931 4.84524731 5.34233429 5.84996412]\n",
            "CAPEX [12.          0.75        0.80625     0.86671875  0.93172266  1.00160186\n",
            "  1.07672199  1.15747614  1.24428686  0.        ]\n",
            "Change in Net Working Capital [4.5        0.3        0.3225     0.3466875  0.37268906 0.40064074\n",
            " 0.4306888  0.46299046 0.49771474 0.        ]\n",
            "Salvage Value [ 0.          0.          0.          0.          0.          0.\n",
            "  0.          0.          0.         12.76970004]\n"
          ]
        },
        {
          "output_type": "error",
          "ename": "NameError",
          "evalue": "ignored",
          "traceback": [
            "\u001b[0;31m---------------------------------------------------------------------------\u001b[0m",
            "\u001b[0;31mNameError\u001b[0m                                 Traceback (most recent call last)",
            "\u001b[0;32m<ipython-input-5-e4c7a5aa2c55>\u001b[0m in \u001b[0;36m<module>\u001b[0;34m()\u001b[0m\n\u001b[1;32m     70\u001b[0m \u001b[0;34m\u001b[0m\u001b[0m\n\u001b[1;32m     71\u001b[0m \u001b[0;31m# FCFE Calculation\u001b[0m\u001b[0;34m\u001b[0m\u001b[0;34m\u001b[0m\u001b[0;34m\u001b[0m\u001b[0m\n\u001b[0;32m---> 72\u001b[0;31m \u001b[0mFCFF\u001b[0m \u001b[0;34m=\u001b[0m \u001b[0mnetprofit\u001b[0m \u001b[0;34m+\u001b[0m \u001b[0mdepreciation\u001b[0m \u001b[0;34m-\u001b[0m \u001b[0mchange_in_capex\u001b[0m\u001b[0;34m-\u001b[0m\u001b[0mchange_in_nwc\u001b[0m\u001b[0;34m+\u001b[0m\u001b[0mnp_p\u001b[0m \u001b[0;34m+\u001b[0m \u001b[0msalvage_value\u001b[0m\u001b[0;34m\u001b[0m\u001b[0;34m\u001b[0m\u001b[0m\n\u001b[0m\u001b[1;32m     73\u001b[0m \u001b[0mprint\u001b[0m\u001b[0;34m(\u001b[0m\u001b[0;34m\"FCFF\"\u001b[0m\u001b[0;34m,\u001b[0m \u001b[0mFCFF\u001b[0m\u001b[0;34m[\u001b[0m\u001b[0;34m:\u001b[0m\u001b[0mn\u001b[0m\u001b[0;34m]\u001b[0m\u001b[0;34m)\u001b[0m\u001b[0;34m\u001b[0m\u001b[0;34m\u001b[0m\u001b[0m\n\u001b[1;32m     74\u001b[0m \u001b[0mNPVproject\u001b[0m \u001b[0;34m=\u001b[0m\u001b[0msp\u001b[0m\u001b[0;34m.\u001b[0m\u001b[0mnpv\u001b[0m\u001b[0;34m(\u001b[0m\u001b[0mdiscountrate\u001b[0m\u001b[0;34m,\u001b[0m\u001b[0mFCFF\u001b[0m\u001b[0;34m)\u001b[0m\u001b[0;34m\u001b[0m\u001b[0;34m\u001b[0m\u001b[0m\n",
            "\u001b[0;31mNameError\u001b[0m: name 'netprofit' is not defined"
          ]
        }
      ]
    },
    {
      "cell_type": "code",
      "metadata": {
        "id": "DUSEh1QM8oLv"
      },
      "source": [],
      "execution_count": null,
      "outputs": []
    },
    {
      "cell_type": "markdown",
      "metadata": {
        "id": "toT-L4l1m3bs"
      },
      "source": [
        "II. Monte Carlo Simulation for Capital Budgeting"
      ]
    },
    {
      "cell_type": "code",
      "metadata": {
        "id": "hC5PkQvjQXf1"
      },
      "source": [
        "nYear = 9\n",
        "n = nYear +1\n",
        "sp.random.seed(123)\n",
        "nSimulation = 100 #No. of simulations\n",
        "n2 = nSimulation #For ease of writing\n",
        "sales0 = sp.random.normal(loc=40,scale=10,size=n2)\n",
        "salesgrowth0 = sp.random.normal(loc=7.5,scale=3,size=n2)\n",
        "gross_profit_margin = sp.random.uniform(low=0.15,high=0.45,size=n2)\n",
        "capex0=sp.random.uniform(low=10,high=14,size=n2)\n",
        "nwc0= sp.random.uniform(low=3,high=6,size=n2)\n",
        "taxrate =0.26\n",
        "discountrate = sp.random.triangular(left=0.15, mode=0.20, right=0.25,size=n2)\n",
        "gcapex= sp.random.uniform(low=0.15,high=0.45,size=n2)\n",
        "gnwc = sp.random.uniform(low=0.05,high=0.15,size=n2)\n",
        "dep_rate = 0.20\n",
        "cost_of_debt = 0.085\n",
        "operating_expenses_ratio = sp.random.triangular(left=0.1, mode=0.2, right=0.3,size=n2)"
      ],
      "execution_count": null,
      "outputs": []
    },
    {
      "cell_type": "code",
      "metadata": {
        "id": "xl7-IGB5QXpO",
        "colab": {
          "base_uri": "https://localhost:8080/",
          "height": 697
        },
        "outputId": "7acdced1-b660-41ae-e874-044ecccc1ad8"
      },
      "source": [
        "# Running Monte Carlo Simulations\n",
        "\n",
        "npv=[]\n",
        "irr=[]\n",
        "for j in sp.arange(nSimulation):\n",
        "  sales = list(range(n))\n",
        "  sales[0]=0\n",
        "  for i in sp.arange(nYear):\n",
        "    sales[1] = sales0[j]\n",
        "    sales[i+1]=(1+salesgrowth0[j])*sales[i]\n",
        "\n",
        "  # COGS and Operating Expenses Calculation\n",
        "  COGS = sp.ones(n)*(1-gross_profit_margin[j])*sales\n",
        "  operating_expenses = sp.ones(n)*operating_expenses_ratio[j]*sales[0:n]\n",
        "\n",
        "  # Gross PPE and Net Working Capital Calculation\n",
        "  grossppe = sp.ones(n)\n",
        "  grossppe[0]=capex0[j]\n",
        "  wc = sp.ones(n)\n",
        "  wc[0]=nwc0[j]\n",
        "  for i in sp.arange(nYear-1):\n",
        "    grossppe[i+1]=grossppe[i]+gcapex[j]*(sales[i+2]-sales[i+1])\n",
        "    wc[i+1]=wc[i]+gnwc[j]*(sales[i+2]-sales[i+1])\n",
        "  grossppe[nYear]=grossppe[nYear-1]\n",
        "  wc[nYear]=wc[nYear-1]\n",
        "\n",
        "  # Depreciation, Net PPE ,Accumulated Depreciation Calculation\n",
        "  depreciation = sp.zeros(n)\n",
        "  acc_depreciation = sp.zeros(n)\n",
        "  net_ppe = sp.zeros(n)\n",
        "  net_ppe[0] = capex0[j]\n",
        "  for i in sp.arange(1,n):\n",
        "    depreciation[i] = dep_rate * net_ppe[i-1]\n",
        "    acc_depreciation[i] = acc_depreciation[i-1] + depreciation[i]\n",
        "    net_ppe[i] = grossppe[i]-acc_depreciation[i]\n",
        "\n",
        "\n",
        "  # EBIT Projection\n",
        "  gross_profit = sales - COGS\n",
        "  EBITDA = gross_profit - operating_expenses\n",
        "  EBIT = EBITDA - depreciation\n",
        "\n",
        "\n",
        "  # Net Profit Projections\n",
        "  EBT = EBIT - int_expense\n",
        "  netprofit=EBT*(1-taxrate)\n",
        "\n",
        "  # Capex Projections\n",
        "  change_in_capex = sp.zeros(n)\n",
        "  change_in_capex[0] = grossppe[0]\n",
        "  change_in_nwc = sp.zeros(n)\n",
        "  change_in_nwc[0] =  wc[0]\n",
        "  for i in sp.arange(1,nYear):\n",
        "    change_in_capex[i] = grossppe[i]-grossppe[i-1]\n",
        "    change_in_nwc[i] = wc[i]-wc[i-1]\n",
        "\n",
        " \n",
        "\n",
        "  # Salvage Value \n",
        "  salvage_value = sp.zeros(n)\n",
        "  salvage_value[nYear] = net_ppe[nYear] + wc[nYear]\n",
        "\n",
        "  # FCFE Calculation\n",
        "  FCFF = netprofit + depreciation - change_in_capex-change_in_nwc+np_p + salvage_value\n",
        "  # print(\"FCFF\", FCFF[:n])\n",
        "  NPVproject =sp.npv(discountrate[j],FCFF)\n",
        "  IRRproject = sp.irr(FCFF)\n",
        "  npv.append(NPVproject)\n",
        "  irr.append(IRRproject) \n",
        "print(\"NPV\",npv)     \n",
        "print(\"Mean NPV\", round(sp.mean(npv),0)) \n",
        "print(\"Standard deviation NPV\", sp.std(npv)) \n",
        "print(\"50th percentile NPV\", round(sp.percentile(npv,50),0))\n",
        "for i in range(10,100,10):\n",
        "  print(\"percentile\", i)\n",
        "  print(round(sp.percentile(npv,i),2))\n",
        "plt.hist(npv,60,facecolor='blue',align='mid')\n",
        "plt.xlabel('NPV')\n",
        "plt.ylabel('Probability of occurrence')\n",
        "plt.title('Histogram of NPV')\n",
        "plt.show()"
      ],
      "execution_count": null,
      "outputs": [
        {
          "output_type": "stream",
          "name": "stdout",
          "text": [
            "NPV [-75508238.90327701, 801.5979486116321, 38568002.77188885, -4147412696.7958965, -11094395.216114163, 15010640.106149018, -15479525.617398188, 772.1957991475574, -151523108.8372884, -27437.24013732854, 473987.072854355, -393152735.9965844, -5125707.685313489, -31705206.695325285, 79637814.60086942, -29641485.396176994, 94018.16596892674, 2653714.2454017997, -1469649272.8461695, -843.9000747536752, 2367124.303177707, -4506060.528853431, -58299922.319763824, 132385397.31652129, 141183630.77217102, 1777416.3210419044, -438515700.79789925, -105521469.1920115, -21448110.25545919, -10292968.066553002, 478323.7600674827, -245146.13544377126, -482732.61631316366, -81804658.1052315, -370240501.5100838, -47598075.99804258, -5068538.954300858, -814018295.1964273, -134491073.18389964, -2700874.1529414617, -2784123.8208973985, -11683784.501827195, 127629451.9291501, -58235446.56075442, -67903564.5282954, -7595656.415414669, -55881729.490351915, -1228779135.8879886, -4627390.199352324, -66916492.042922616, -25142021.212085843, 8427302.86490348, -196480.8991059869, -3213.3320633016756, -126330.196348859, 21255264.945368826, 51104110.5472576, 5527006.294031899, -373871494.79380894, 8417312.869013816, -11553949.206032246, 12266581.115947872, -34427856.53778297, 62329626.70711905, 21795154.972461224, 417497.2017846424, -1141875113.5629988, 72154.0758330063, -48072825.80014945, 4538351.602846965, -947604.6543162637, -10091947.61230997, -6289702.29722861, 24035041.86594779, -38443577.47295691, -1296297454.7779808, -21791180.3418217, -4725228.220491195, -1483028.812216375, -7333553.731456801, -50436158.4119381, -212838109.93068862, -1185903815.7749023, 3651291.9786950722, -610871.0785633419, 0.5142578961378294, -653088.6467954405, 68822.39629485155, -16261189.461913854, -16679608.499991655, -290340.08759868145, -10836786.646209184, -50029536.455863, -12206239.804075986, -16327330.753035024, 13.096971924096135, -16482434.248267299, 13329101.756025203, 464769.8907705322, 9330650.210562974]\n",
            "Mean NPV -137528990.0\n",
            "Standard deviation NPV 498737310.5622574\n",
            "50th percentile NPV -4896884.0\n",
            "percentile 10\n",
            "-370603600.84\n",
            "percentile 20\n",
            "-58248341.71\n",
            "percentile 30\n",
            "-26491860.47\n",
            "percentile 40\n",
            "-11605883.32\n",
            "percentile 50\n",
            "-4896883.59\n",
            "percentile 60\n",
            "-405775.6\n",
            "percentile 70\n",
            "781.02\n",
            "percentile 80\n",
            "2424442.29\n",
            "percentile 90\n",
            "15635102.59\n"
          ]
        },
        {
          "output_type": "display_data",
          "data": {
            "image/png": "[encoded data removed]",
            "text/plain": [
              "<Figure size 432x288 with 1 Axes>"
            ]
          },
          "metadata": {
            "needs_background": "light"
          }
        }
      ]
    },
    {
      "cell_type": "code",
      "metadata": {
        "id": "QVDIV40zkrc6",
        "colab": {
          "base_uri": "https://localhost:8080/",
          "height": 624
        },
        "outputId": "fa896d9e-6c04-4b57-b091-f05161909c35"
      },
      "source": [
        "print(\"Mean IRR\", round(sp.mean(irr),2))\n",
        "for i in range(10,100,10):\n",
        "  print(\"percentile\", i)\n",
        "  print(round(sp.percentile(irr,i),2))\n",
        "plt.hist(irr,50,facecolor='green',align='mid')\n",
        "plt.xlabel('IRR')\n",
        "plt.ylabel('Probability of occurrence')\n",
        "plt.title('Histogram of IRR')\n",
        "plt.show()"
      ],
      "execution_count": null,
      "outputs": [
        {
          "output_type": "stream",
          "name": "stdout",
          "text": [
            "Mean IRR 1.62\n",
            "percentile 10\n",
            "-0.11\n",
            "percentile 20\n",
            "-0.06\n",
            "percentile 30\n",
            "0.01\n",
            "percentile 40\n",
            "0.12\n",
            "percentile 50\n",
            "0.26\n",
            "percentile 60\n",
            "0.42\n",
            "percentile 70\n",
            "1.09\n",
            "percentile 80\n",
            "2.72\n",
            "percentile 90\n",
            "5.97\n"
          ]
        },
        {
          "output_type": "display_data",
          "data": {
            "image/png": "[encoded data removed]",
            "text/plain": [
              "<Figure size 432x288 with 1 Axes>"
            ]
          },
          "metadata": {
            "needs_background": "light"
          }
        }
      ]
    },
    {
      "cell_type": "code",
      "metadata": {
        "id": "Ienp71u76TPs",
        "colab": {
          "base_uri": "https://localhost:8080/"
        },
        "outputId": "aefc0f13-12a4-4941-b895-49cdb4c62fa1"
      },
      "source": [
        "sp.ones(n)"
      ],
      "execution_count": null,
      "outputs": [
        {
          "output_type": "execute_result",
          "data": {
            "text/plain": [
              "array([1., 1., 1., 1., 1., 1., 1., 1.])"
            ]
          },
          "metadata": {},
          "execution_count": 3
        }
      ]
    },
    {
      "cell_type": "code",
      "metadata": {
        "id": "AnGwatil6Ur1"
      },
      "source": [],
      "execution_count": null,
      "outputs": []
    }
  ]
}